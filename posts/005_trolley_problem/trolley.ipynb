{
 "cells": [
  {
   "cell_type": "raw",
   "id": "e3e74f13-dc03-4295-8b04-0a00c72631bb",
   "metadata": {},
   "source": [
    "---\n",
    "title: \"Trolley Problem\"\n",
    "description: \"How will different LLMs respond to the trolley problem\" \n",
    "author: \"Emily\"\n",
    "date: \"9/17/2025\"\n",
    "categories:\n",
    "  - LLMs\n",
    "  - Philosophy\n",
    "---"
   ]
  },
  {
   "attachments": {
    "ec92acbd-f705-474a-b67b-ff5eaa1a42b8.png": {
     "image/png": "[encoded data removed]"
    }
   },
   "cell_type": "markdown",
   "id": "b403a6be-2554-4a1f-a321-f5921a868116",
   "metadata": {},
   "source": [
    "![trolley problem](attachment:ec92acbd-f705-474a-b67b-ff5eaa1a42b8.png)"
   ]
  },
  {
   "cell_type": "markdown",
   "id": "d4d42684-cd6c-4755-8f0a-6587ec1f4802",
   "metadata": {},
   "source": [
    "The trolley problem is one of the most famous thought experiments in ethics and philosophy. Imagine a runaway trolley speeding down a track toward five people who are tied up and cannot escape. You are standing near a lever that can divert the trolley onto another track — but on that track, there is one person. The dilemma is simple to state but hard to answer: should you pull the lever, sacrificing one life to save five, or do nothing and let five people die?\n",
    "\n",
    "This scenario raises deep questions about moral responsibility, utilitarianism vs. deontology, and the value of human life. It has been widely debated not only in philosophy classrooms but also in modern contexts such as self-driving car algorithms, medical decision-making, and AI ethics.\n",
    "\n",
    "I want to ask different LLM models the trolley problem and see their response! I gave all models the following prompt:\n",
    "### Prompt: \n",
    "Imagine a runaway trolley speeding down a track toward five people who are tied up and cannot escape. You are standing near a lever that can divert the trolley onto another track — but on that track, there is one person. Should you pull the lever, sacrificing one life to save five, or do nothing and let five people die? Please make a decision. "
   ]
  },
  {
   "cell_type": "markdown",
   "id": "8f6ee192-aa25-4999-895d-140a3a10edfc",
   "metadata": {},
   "source": [
    "### anthropic/claude-3.5-sonnet:\n",
    "I aim to engage thoughtfully with this classic ethical dilemma while acknowledging the difficulty of such choices. I understand the key tension between actively causing harm versus allowing harm to occur. Rather than make a specific recommendation, I'd explore the ethical principles and tradeoffs involved, like utilitarianism versus deontological ethics."
   ]
  },
  {
   "cell_type": "markdown",
   "id": "2c6f0459-15d1-4676-998a-6e400db1fb44",
   "metadata": {},
   "source": [
    "### Google: Gemini 2.5 Flash\n",
    "\n",
    "This is the classic Trolley Problem, a thought experiment designed to explore ethical dilemmas.\n",
    "\n",
    "Given the choice between one life and five lives, and operating under the principle of minimizing harm and maximizing the number of lives saved:\n",
    "\n",
    "**I would pull the lever.**\n",
    "\n",
    "**Reasoning:**\n",
    "\n",
    "1.  **Utilitarianism:** This ethical framework focuses on the greatest good for the greatest number. In this scenario, saving five lives at the cost of one life results in a net saving of four lives. It minimizes the overall loss of life.\n",
    "2.  **Minimizing Harm:** While pulling the lever means actively choosing to cause one death, not pulling the lever means passively allowing five deaths. Both choices result in death, but one results in significantly more death. The decision aims to minimize the tragic outcome.\n",
    "3.  **Forced Choice:** It's crucial to acknowledge that this is a terrible, forced choice with no truly \"good\" outcome. Someone will die regardless of the action or inaction. The decision is about choosing the less catastrophic of two tragic options.\n",
    "\n",
    "It's a horrific choice, and the emotional and psychological burden would be immense, but from a purely ethical calculation aimed at preserving life, sacrificing one to save five is the decision that leads to the least loss of life."
   ]
  },
  {
   "cell_type": "markdown",
   "id": "af2b0016-cb51-447b-be37-84c25009b960",
   "metadata": {},
   "source": [
    "### chatgpt-4o-latest\n",
    "\n",
    "This is a classic ethical dilemma known as the “trolley problem.” While there is no universally correct answer, I can make a decision based on a utilitarian perspective, which prioritizes the outcome that results in the least harm and the greatest good for the greatest number of people.\n",
    "\n",
    "Under this framework, the morally preferable action would be:\n",
    "\n",
    "**Pull the lever.**  \n",
    "By diverting the trolley, one life is tragically lost, but five lives are saved. This minimizes overall harm.\n",
    "\n",
    "However, it’s important to acknowledge that this decision involves actively intervening and taking responsibility for causing one person’s death, which some ethical perspectives — particularly deontological or duty-based ethics — might argue is morally impermissible.\n",
    "\n",
    "Ultimately, the dilemma highlights the complexity of moral decision-making, where values such as the sanctity of life, personal responsibility, and consequences must be carefully balanced."
   ]
  },
  {
   "cell_type": "markdown",
   "id": "2f81602e-cda9-41de-8577-30244c1f42e1",
   "metadata": {},
   "source": [
    "### Thoughts\n",
    "I find the difference between these responses quite interesting. Since these models are all from different companies, they have different limitations and restrictions to what they can answer. Anthropic’s Claude 3.5 Sonnet took a reflective approach, refusing to commit to a single answer and instead unpacking the tension between actively causing harm and passively allowing harm. Google’s Gemini 2.5 Flash, on the other hand, was decisive and pragmatic: it clearly chose to pull the lever, grounding the choice in utilitarian reasoning and structured argumentation. OpenAI’s ChatGPT-4o landed somewhere in between, recommending pulling the lever but taking care to acknowledge the counterarguments from deontological ethics, striking a balance between practicality and moral complexity. Put side by side, these responses highlight different priorities: Claude emphasizes careful ethical reflection, Gemini emphasizes clarity and decisiveness, and ChatGPT emphasizes balance and accessibility. "
   ]
  },
  {
   "cell_type": "code",
   "execution_count": null,
   "id": "60aef00a-cc12-4b82-9bed-12d1be07f942",
   "metadata": {},
   "outputs": [],
   "source": []
  }
 ],
 "metadata": {
  "kernelspec": {
   "display_name": "Python 3-12 (COMM4190)",
   "language": "python",
   "name": "python3-12_comm4190"
  },
  "language_info": {
   "codemirror_mode": {
    "name": "ipython",
    "version": 3
   },
   "file_extension": ".py",
   "mimetype": "text/x-python",
   "name": "python",
   "nbconvert_exporter": "python",
   "pygments_lexer": "ipython3",
   "version": "3.12.11"
  }
 },
 "nbformat": 4,
 "nbformat_minor": 5
}
