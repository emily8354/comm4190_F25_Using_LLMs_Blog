{
 "cells": [
  {
   "cell_type": "raw",
   "id": "771ee0c7-cd68-449c-a6ee-028f04e17acb",
   "metadata": {},
   "source": [
    "---\n",
    "title: \"What to do around Philly\"\n",
    "description: \"Asking different LLMs for ideas on things to do around Philly\" \n",
    "author: \"Emily\"\n",
    "date: \"9/25/2025\"\n",
    "categories:\n",
    "  - LLMs\n",
    "  - Ideas\n",
    "---"
   ]
  },
  {
   "cell_type": "markdown",
   "id": "cdf1ec84-2681-4a29-adcf-5b4061a945fd",
   "metadata": {},
   "source": [
    "### Intro:\n",
    "As a senior with a good amount of free time this semester, I want to explore Philly and make the most out of my time here! I don't really know many activities to do in Philly besides walk into Center City or along the Schuylkill River. So, I decided to ask ChatGPT-4o-latest, Google Gemini 2.5 Flash, and Anthropic/Claude-3.5-sonnet for ideas on what to do in Philly next weekend!"
   ]
  },
  {
   "attachments": {
    "fbb65838-9b95-4768-8bdb-a2a3728d0fc7.jpg": {
     "image/jpeg": "[encoded data removed]"
    }
   },
   "cell_type": "markdown",
   "id": "d1d75720-b8f7-40b2-bd1c-c266231490c5",
   "metadata": {},
   "source": [
    "![Philly!](attachment:fbb65838-9b95-4768-8bdb-a2a3728d0fc7.jpg)"
   ]
  },
  {
   "cell_type": "markdown",
   "id": "65b621e6-8e26-4fd5-ae52-bfc95f243edb",
   "metadata": {},
   "source": [
    "### Prompt:\n",
    "What should I do next week in Philadelphia? I am college student located in University City. I would prefer activities that are free or low cost. Please list out 5 ideas in the following format:  \n",
    "Idea  \n",
    "Cost:  \n",
    "Description:  "
   ]
  },
  {
   "cell_type": "markdown",
   "id": "e65967d9-24cc-4f40-a1a6-f502c320118a",
   "metadata": {},
   "source": [
    "### ChatGPT's Response:\n",
    "Sure! Here are 5 free or low-cost things you can do next week in Philadelphia as a college student in University City:\n",
    "\n",
    "1. Explore the Schuylkill River Trail  \n",
    "Cost: Free  \n",
    "Description: Take a walk, jog, or bike ride along the scenic Schuylkill River Trail. It’s easily accessible from University City and offers beautiful views of the skyline. A great way to enjoy nature while staying close to campus.\n",
    "\n",
    "2. Visit the Institute of Contemporary Art (ICA)  \n",
    "Cost: Free  \n",
    "Description: Located right on Penn’s campus, the ICA features rotating exhibitions of cutting-edge modern art. Admission is always free, and it’s a great spot to engage with new ideas and artists.\n",
    "\n",
    "3. Attend Shakespeare in Clark Park (check for dates)  \n",
    "Cost: Free  \n",
    "Description: If there’s a performance happening next week, grab a blanket and enjoy a free outdoor play in Clark Park, just a short walk from University City. The productions are engaging and community-driven.\n",
    "\n",
    "4. Check out First Friday in Old City (if it falls next week)  \n",
    "Cost: Free  \n",
    "Description: On the first Friday evening of every month, art galleries and shops in Old City open their doors late with free exhibits, live music, and entertainment. Hop on the Market-Frankford Line for an easy ride from University City.\n",
    "\n",
    "5. Explore Reading Terminal Market  \n",
    "Cost: Free to enter (food optional)  \n",
    "Description: Even if you don’t buy anything, wandering through Reading Terminal Market is a sensory experience. Sample free food samples, people-watch, and enjoy the historic vibe. If you want a bite, you can find affordable eats!\n",
    "\n",
    "Let me know if you'd like more ideas for specific days or interests!"
   ]
  },
  {
   "cell_type": "markdown",
   "id": "9b134200-8d2e-43e6-b2c6-29b17221ac63",
   "metadata": {},
   "source": [
    "### Gemini's Response:\n",
    "Here are 5 ideas for you to do next week in Philadelphia, keeping your location, budget, and student status in mind:\n",
    "\n",
    "1.  **Visit the Institute of Contemporary Art (ICA) at Penn**  \n",
    "    cost: Free  \n",
    "    description: Located right on Penn's campus, the ICA always features cutting-edge contemporary art exhibitions. It's a great way to spend an hour or two stimulating your mind with thought-provoking art, and it's completely free to enter. Check their website for current exhibits.  \n",
    "\n",
    "2.  **Explore Reading Terminal Market**  \n",
    "    cost: Free to browse, low cost if you decide to buy food/drinks  \n",
    "    description: A historic indoor market bursting with energy, food stalls, and vendors. Even if you don't buy anything, it's a fantastic place to walk around, people-watch, and soak in the vibrant atmosphere. You can find relatively inexpensive snacks or meals if you get hungry. It's a short ride on SEPTA or a manageable walk from University City.  \n",
    "\n",
    "3.  **Walk or Bike the Schuylkill Banks Trail**  \n",
    "    cost: Free (if you walk or own a bike)  \n",
    "    description: Easily accessible from University City, this scenic trail runs along the Schuylkill River, offering beautiful views of the city skyline and the river. It's perfect for a walk, jog, or bike ride, allowing you to enjoy the outdoors and get some exercise without spending a dime.  \n",
    "\n",
    "4.  **Visit the Rodin Museum (Pay-What-You-Wish)**  \n",
    "    cost: Pay-What-You-Wish (suggested $12, but you can pay as little as $1 or even $0)  \n",
    "    description: Home to one of the largest collections of Auguste Rodin's sculptures outside of Paris, including \"The Thinker\" and \"The Gates of Hell.\" The museum building and its surrounding gardens are beautiful and offer a peaceful, culturally enriching experience. It's a short public transit ride or a pleasant walk from University City.  \n",
    "\n",
    "5.  **Relax at Penn Park or Drexel Park for Skyline Views**  \n",
    "    cost: Free  \n",
    "    description: Both Penn Park (located behind Franklin Field on Penn's campus) and Drexel Park (at 32nd and Powelton Ave) offer fantastic, unobstructed views of the Philadelphia skyline. They are great spots to relax, read a book, have a picnic (pack your own snacks!), or simply enjoy the scenery, especially around sunset. Both are right in your neighborhood."
   ]
  },
  {
   "cell_type": "markdown",
   "id": "70e96100-04cb-4499-bc7b-820959789e56",
   "metadata": {},
   "source": [
    "### Claude's Response:\n",
    "Here are 5 ideas for next week in Philadelphia, focusing on free or low-cost activities accessible from University City:\n",
    "\n",
    "**1. Visit the Institute of Contemporary Art (ICA) at Penn**\n",
    "*   **Cost:** Free\n",
    "*   **Description:** Located right on the University of Pennsylvania campus, the ICA features cutting-edge contemporary art exhibitions that are always thought-provoking. It's a fantastic way to experience modern art without spending a dime, and it's incredibly convenient for a University City student. Check their website for current exhibitions.\n",
    "\n",
    "**2. Explore the Schuylkill River Trail & Schuylkill Banks**\n",
    "*   **Cost:** Free\n",
    "*   **Description:** This scenic urban trail runs along the Schuylkill River, offering beautiful views of the city skyline and plenty of green space. You can walk, jog, or bike. Start from the University City side (e.g., near the South Street Bridge or Cira Centre) and head north towards Fairmount Park or south along the Banks for a relaxing and active outdoor escape.\n",
    "\n",
    "**3. Pay-What-You-Wish at the Rodin Museum**\n",
    "*   **Cost:** Pay-what-you-wish (suggested donation is $12, but you can pay any amount, or nothing at all)\n",
    "*   **Description:** Home to one of the largest collections of Auguste Rodin's work outside of Paris, including iconic pieces like \"The Thinker\" and \"The Gates of Hell.\" The museum and its beautiful gardens offer a serene and profound artistic experience. It's a short walk or quick bus ride from University City, making it an accessible cultural outing.\n",
    "\n",
    "**4. Wander through Reading Terminal Market**\n",
    "*   **Cost:** Free to enter and browse; low cost if you choose to buy food or snacks\n",
    "*   **Description:** One of America's oldest and largest public markets, Reading Terminal is a vibrant hub of food vendors, bakeries, produce stands, and specialty shops. Even if you're not buying anything, it's a fantastic place to soak in the bustling atmosphere, people-watch, and enjoy the incredible sights and smells. You can grab a cheap snack or meal if you want. Easily accessible via SEPTA from University City.\n",
    "\n",
    "**5. Discover Old City & Independence National Historical Park**\n",
    "*   **Cost:** Free (some attractions like Independence Hall require timed tickets which are free but often booked in advance, but you can see many things from the outside)\n",
    "*   **Description:** Take a walk through America's most historic square mile. You can see the Liberty Bell (from outside or wait in line for free entry), walk past Independence Hall, explore Elfreth's Alley (the oldest continuously inhabited residential street in the US), and wander the charming cobblestone streets of Old City, soaking in the colonial architecture and history. It's a bit further from University City but easily reachable by SEPTA."
   ]
  },
  {
   "cell_type": "markdown",
   "id": "ac65666a-df38-4b1e-9eb0-b1ef953a4f1d",
   "metadata": {},
   "source": [
    "### Thoughts:\n",
    "Overall, I really like ChatGPT's response and thought that it had some interesting events that I had not heard of before like Shakespeare in Clark Park and First Friday in Old City. First Friday is also next Friday so I think I will actually check it out! However, ChatGPT's format was not as good as the other responses ex. harder to read with no bolding.\n",
    "\n",
    "Gemini and Claude both had almost the same response. I think the format of both of these responses is better with the bolding, but otherwise these suggestions are all places that are common and well known. \n",
    "\n",
    "I find it interesting that Gemini and Claude had extremely similar responses while ChatGPT's was different. Perhaps the ChatGPT model is more different than the Gemini and Claude ones? "
   ]
  },
  {
   "cell_type": "code",
   "execution_count": null,
   "id": "779abe56-7ac6-4ae8-8e74-2e016f97afc7",
   "metadata": {},
   "outputs": [],
   "source": []
  }
 ],
 "metadata": {
  "kernelspec": {
   "display_name": "Python 3-12 (COMM4190)",
   "language": "python",
   "name": "python3-12_comm4190"
  },
  "language_info": {
   "codemirror_mode": {
    "name": "ipython",
    "version": 3
   },
   "file_extension": ".py",
   "mimetype": "text/x-python",
   "name": "python",
   "nbconvert_exporter": "python",
   "pygments_lexer": "ipython3",
   "version": "3.12.11"
  }
 },
 "nbformat": 4,
 "nbformat_minor": 5
}
