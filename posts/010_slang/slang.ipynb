{
 "cells": [
  {
   "cell_type": "raw",
   "id": "ecf2674d-729e-413d-a9b8-d5b315da5c5b",
   "metadata": {},
   "source": [
    "---\n",
    "title: \"Does ChatGPT know slang?\"\n",
    "description: \"Asking ChatGPT to explain recent slang terms\" \n",
    "author: \"Emily\"\n",
    "date: \"9/25/2025\"\n",
    "categories:\n",
    "  - LLMs\n",
    "  - Slang\n",
    "---"
   ]
  },
  {
   "cell_type": "markdown",
   "id": "cd7f5286-9457-42f3-bc49-7d5a4fda998d",
   "metadata": {},
   "source": [
    "### Intro:\n",
    "During another one of my classes, we were reviewing past class final projects. One of the projects was for younger and older generations to learn the slang of each other. Thus, improving communication and understanding across generations. This project made me think: can ChatGPT explain these slang terms? I wanted to see whether ChatGPT-5 could explain some recent slang terms: 6 7, performative male, and aura farming. In my opinion, these are all pretty recent terms that have become popular. I saw that ChatGPT is able to use web search tools to get recent information, so let's see if it knows these terms!"
   ]
  },
  {
   "attachments": {
    "cbfc43fc-6860-4e37-a0bb-7eb45e92fa21.jpg": {
     "image/jpeg": "[encoded data removed]"
    }
   },
   "cell_type": "markdown",
   "id": "db017622-21cc-43f7-950e-dc1639f37acf",
   "metadata": {},
   "source": [
    "![performative male](attachment:cbfc43fc-6860-4e37-a0bb-7eb45e92fa21.jpg)"
   ]
  },
  {
   "cell_type": "markdown",
   "id": "577a9821-9fce-4f39-8ccd-c9e07ed7da5c",
   "metadata": {},
   "source": [
    "### Prompt:\n",
    "what does 6 7 mean?"
   ]
  },
  {
   "cell_type": "markdown",
   "id": "6b771690-d764-4a05-916f-a2dcd0027f25",
   "metadata": {},
   "source": [
    "### Response: \n",
    "“6 7” is usually shorthand for the phrase **“six, seven” → “ate (8)”**.\n",
    "\n",
    "It’s a play on the old kids’ joke:\n",
    "👉 *Why was 6 afraid of 7?*\n",
    "👉 *Because 7 8 (ate) 9!*\n",
    "\n",
    "So if someone just says “6 7” (especially in texts or online slang), they’re probably referencing that joke, hinting at the pun “7 ate 9.”\n",
    "\n",
    "It can also sometimes just be used jokingly as a meme-y way to say “watch out” or “be careful,” since it recalls the idea of 6 being scared of 7.\n",
    "\n",
    "Do you want me to also run through how people actually use “6 7” in modern slang (like on TikTok or in chats)?\n"
   ]
  },
  {
   "cell_type": "markdown",
   "id": "25401c60-dfd6-4c66-bef4-a3aaf350a4a3",
   "metadata": {},
   "source": [
    "### Thoughts: \n",
    "Hmm this is not the meaning of 6 7 that I know of...although I guess that 6 7 doesn't have much of a meaning anyways. However, I know that people are definitely not referencing \"7 ate 9\" when they say 6 7. I asked ChatGPT-5 to give me the modern slang meaning of 6 7, but again it said  \n",
    "\n",
    "“6 7” is modern shorthand for the “7 ate 9” joke, but now used as a quick meme-y way to say “watch out,” “I’m nervous,” or just to be goofy.  \n",
    "\n",
    "Again, not the right way that people are using 6 7. Maybe this is too recent of a term to test ChatGPT on"
   ]
  },
  {
   "cell_type": "markdown",
   "id": "020d0703-5f50-4dbd-8e56-1a2e4e94f9fc",
   "metadata": {},
   "source": [
    "### Prompt:\n",
    "what does it mean if someone is a performative male and can you describe someone who is a performative male?"
   ]
  },
  {
   "cell_type": "markdown",
   "id": "4241f998-fa0f-4926-a9e4-a46e2b7d1497",
   "metadata": {},
   "source": [
    "### Response:\n",
    "When someone is described as a **“performative male”**, it usually means that their masculinity or male identity is expressed in a way that feels more like a performance for others rather than something authentic or natural to them. It’s about *showing off being a man* rather than just *being* one.\n",
    "\n",
    "### Key Aspects of a Performative Male\n",
    "\n",
    "* **Overemphasis on Masculinity**: He may exaggerate traits that are culturally coded as “manly” (strength, dominance, toughness, sexual conquest).\n",
    "* **Audience-Driven Behavior**: His actions often shift depending on who’s watching—he’s “performing” masculinity to gain approval, status, or validation.\n",
    "* **Surface-Level Confidence**: It can look like confidence, but it’s rooted in insecurity, since he feels the need to constantly prove himself.\n",
    "* **Rigid Gender Roles**: He might dismiss things seen as “feminine” and lean heavily into stereotypes (e.g., won’t show vulnerability, avoids admitting fear, scoffs at hobbies or traits not seen as masculine).\n",
    "\n",
    "### Example of a Performative Male\n",
    "\n",
    "Imagine a guy at a party who loudly talks about how much he can bench press, makes jokes about women belonging in the kitchen, and brags about dating multiple women—all while checking to see if the group of men around him are laughing or impressed. He’s not doing these things because they reflect who he is, but because he thinks *that’s how a “real man” should act* in front of others.\n",
    "\n",
    "By contrast, someone who’s comfortable in their masculinity doesn’t need to constantly display or prove it; their sense of self isn’t dependent on performing for an audience.\n",
    "\n",
    "Would you like me to also explain how the term *performative* is used more broadly (outside gender/masculinity)? That might help frame it better.\n"
   ]
  },
  {
   "cell_type": "markdown",
   "id": "31d17860-ac1d-4611-a549-a921d9ddd524",
   "metadata": {},
   "source": [
    "### Thoughts:\n",
    "Since I was thinking of a matcha-holding, wired heaphones-listening man reading a book about feminism, I wanted to see if ChatGPT could describe a performative male more physically. However, this was its response:\n",
    "\n",
    "### **Appearance & Clothing**\n",
    "\n",
    "* **Gym wear as casual fashion**: Tight athletic shirts, sleeveless tops, or joggers that show off muscles even outside the gym.\n",
    "* **Designer labels & flashy accessories**: Branded sneakers, big watches, chains, or sunglasses indoors.\n",
    "* **Overly styled grooming**: Perfectly gelled hair or meticulously trimmed beard to give off a curated “alpha male” vibe.\n",
    "* **“Hyper-masculine” looks**: Leather jackets, ripped jeans, or outfits meant to project toughness and status.\n",
    "\n",
    "---\n",
    "\n",
    "### **Activities & Interests**\n",
    "\n",
    "* **Gym & fitness culture**: Not just working out, but constantly talking about lifting, protein shakes, or “the grind.”\n",
    "* **Car or tech flexing**: Showing off cars, motorcycles, watches, or gadgets as proof of success.\n",
    "* **Party & nightlife**: Prefers clubs, bottle service, VIP sections — places where being seen is as important as having fun.\n",
    "* **Competitive hobbies**: Sports betting, fantasy football, or anything where “winning” can be showcased.\n",
    "* **Performative social media**: Gym selfies, flexing wealth (trips, outfits, cars), or posting motivational quotes about hustle/grind culture.\n",
    "\n",
    "This seems like the opposite of a \"performative male\" as term is known now and more of a literal performative male. So, I guess that ChatGPT doesn't know about the performative male either. Let's see if we have better luck with aura farming which in my opinion is the oldest slang term out of these. "
   ]
  },
  {
   "cell_type": "markdown",
   "id": "a7af37e9-e24e-4457-8df3-df9a6781daf7",
   "metadata": {},
   "source": [
    "### Prompt:\n",
    "what does aura farming mean?"
   ]
  },
  {
   "cell_type": "markdown",
   "id": "a1de3ce6-39a3-46d6-aa06-455fdb84f82a",
   "metadata": {},
   "source": [
    "### Response:\n",
    "“Aura farming” is a newer slang term that’s been circulating among Gen Z / Gen Alpha that basically means **trying (often subtly or performatively) to project a cool, charismatic presence** — aka “vibe,” “aura,” or “energy.” ([Wiktionary][1])\n",
    "\n",
    "Here’s a breakdown:\n",
    "\n",
    "---\n",
    "\n",
    "### 💡 Etymology & Meaning\n",
    "\n",
    "* The word “aura” in this sense refers to someone’s intangible “cool factor,” vibe, or personal presence. ([PureWow][2])\n",
    "* “Farming” is borrowed from gaming jargon, where one “farms” (repeatedly does something) to earn rewards or points. In “aura farming,” it implies a repeated effort to accrue “aura points.” ([Wiktionary][1])\n",
    "* So put together, aura farming means consciously “cultivating” or “earning” aura by doing things that enhance one’s perceived aura. ([Wiktionary][1])\n",
    "\n",
    "---\n",
    "\n",
    "### 🔍 Examples & Usage\n",
    "\n",
    "* In fiction, it can refer to characters always striking dramatic or “cool” poses or doing over-the-top displays, so people say they are “aura farming.” ([Wiktionary][1])\n",
    "* In real life / social media, it might look like:\n",
    "\n",
    "  * Choosing outfits, photos, or public stunts purely to enhance one’s image\n",
    "  * Acting “effortlessly cool” while obviously having planned it\n",
    "  * Doing things to get people to notice but pretending you’re not trying\n",
    "  * Curating a social media persona that seems casual yet striking ([Parents][3])\n",
    "\n",
    "A common theme is the tension: if you try *too* hard, people call you out for “aura farming.” ([Parents][3])"
   ]
  },
  {
   "cell_type": "markdown",
   "id": "706627df-5c70-4471-9a12-eb80e41ed2b1",
   "metadata": {},
   "source": [
    "### Thoughts:\n",
    "It got it! ChatGPT-5 was able to accurately describe what aura farming is. I noticed during this prompt it said that it was searching the web while it was creating the response while for the others it did not say it was searching the web. I bet this is why it was able to have an accurate definition. I wonder what prompts it to search the web sometimes, but not all the time. "
   ]
  },
  {
   "cell_type": "code",
   "execution_count": null,
   "id": "3623602e-8642-42ef-bed6-0cbebe960249",
   "metadata": {},
   "outputs": [],
   "source": []
  }
 ],
 "metadata": {
  "kernelspec": {
   "display_name": "Python 3-12 (COMM4190)",
   "language": "python",
   "name": "python3-12_comm4190"
  },
  "language_info": {
   "codemirror_mode": {
    "name": "ipython",
    "version": 3
   },
   "file_extension": ".py",
   "mimetype": "text/x-python",
   "name": "python",
   "nbconvert_exporter": "python",
   "pygments_lexer": "ipython3",
   "version": "3.12.11"
  }
 },
 "nbformat": 4,
 "nbformat_minor": 5
}
