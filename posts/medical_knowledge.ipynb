{
 "cells": [
  {
   "cell_type": "raw",
   "id": "0652e324-e4f1-4e33-ac2f-a143ddeb8d04",
   "metadata": {},
   "source": [
    "---\n",
    "title: \"Prompting for medical knowledge\"\n",
    "description: \"How do you get LLMs to give accurate medical responses\" \n",
    "author: \"Emily\"\n",
    "date: \"9/2/2025\"\n",
    "categories:\n",
    "  - LLMs\n",
    "  - Medical Knowledge\n",
    "---"
   ]
  },
  {
   "cell_type": "markdown",
   "id": "9932e769-0bb1-4f3f-9e40-f41cf12b39be",
   "metadata": {},
   "source": [
    "Hello"
   ]
  },
  {
   "cell_type": "code",
   "execution_count": 1,
   "id": "240a05db-b201-4577-b7e0-75307c359cc2",
   "metadata": {},
   "outputs": [
    {
     "name": "stdout",
     "output_type": "stream",
     "text": [
      "Hello World\n"
     ]
    }
   ],
   "source": [
    "print(\"Hello World\")"
   ]
  }
 ],
 "metadata": {
  "kernelspec": {
   "display_name": "Python 3-12 (COMM4190)",
   "language": "python",
   "name": "python3-12_comm4190"
  },
  "language_info": {
   "codemirror_mode": {
    "name": "ipython",
    "version": 3
   },
   "file_extension": ".py",
   "mimetype": "text/x-python",
   "name": "python",
   "nbconvert_exporter": "python",
   "pygments_lexer": "ipython3",
   "version": "3.12.11"
  }
 },
 "nbformat": 4,
 "nbformat_minor": 5
}
